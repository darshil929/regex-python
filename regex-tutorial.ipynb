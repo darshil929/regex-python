{
 "cells": [
  {
   "cell_type": "code",
   "execution_count": 2,
   "metadata": {},
   "outputs": [],
   "source": [
    "import re"
   ]
  },
  {
   "cell_type": "code",
   "execution_count": 4,
   "metadata": {},
   "outputs": [
    {
     "data": {
      "text/plain": [
       "['6092764738', '(785)-986-8758']"
      ]
     },
     "execution_count": 4,
     "metadata": {},
     "output_type": "execute_result"
    }
   ],
   "source": [
    "text = '''\n",
    "Elon musk's phone number is 6092764738, (785)-986-8758 call him if u have any questions on dodgecoin\n",
    "'''\n",
    "\n",
    "pattern = '\\(\\d{3}\\)-\\d{3}-\\d{4}|\\d{10}'\n",
    "\n",
    "matches = re.findall(pattern, text)\n",
    "matches"
   ]
  },
  {
   "cell_type": "code",
   "execution_count": 7,
   "metadata": {},
   "outputs": [
    {
     "data": {
      "text/plain": [
       "['Summary of Significant Accounting Policies', 'Overview']"
      ]
     },
     "execution_count": 7,
     "metadata": {},
     "output_type": "execute_result"
    }
   ],
   "source": [
    "text = '''\n",
    "Note 1 - Summary of Significant Accounting Policies\n",
    "Unaudited Interim Financial Statements\n",
    "The consolidated financial statements of Tesla, Inc. (“Tesla”, the “Company”, “we”, “us” or “our”), including the consolidated balance sheet as of\n",
    "June 30, 2023, the consolidated statements of operations, the consolidated statements of comprehensive income, the consolidated statements of\n",
    "redeemable noncontrolling interests and equity for the three and six months ended June 30, 2023 and 2022, and the consolidated statements of cash\n",
    "flows for the six months ended June 30, 2023 and 2022, as well as other information disclosed in the accompanying notes, are unaudited. The\n",
    "consolidated balance sheet as of December 31, 2022 was derived from the audited consolidated financial statements as of that date. The interim\n",
    "consolidated financial statements and the accompanying notes should be read in conjunction with the annual consolidated financial statements and the\n",
    "accompanying notes contained in our Annual Report on Form 10-K for the year ended December 31, 2022.\n",
    "The interim consolidated financial statements and the accompanying notes have been prepared on the same basis as the annual consolidated\n",
    "financial statements and, in the opinion of management, reflect all adjustments, which include only normal recurring adjustments, necessary for a fair\n",
    "statement of the results of operations for the periods presented. The consolidated results of operations for any interim period are not necessarily\n",
    "indicative of the results to be expected for the full year or for any other future years or interim periods.\n",
    "\n",
    "Note 2 - Overview\n",
    "Deferred revenue is related to the access to our Full Self Driving (“FSD”) features and ongoing maintenance, internet connectivity, free\n",
    "Supercharging programs and over-the-air software updates primarily on automotive sales, which amounted to $3.17 billion and $2.91 billion as of June\n",
    "30, 2023 and December 31, 2022, respectively.\n",
    "Deferred revenue is equivalent to the total transaction price allocated to the performance obligations that are unsatisfied, or partially unsatisfied,\n",
    "as of the balance sheet date. Revenue recognized from the deferred revenue balance as of December 31, 2022 and 2021 was $256 million and $121\n",
    "million for six months ended June 30, 2023 and 2022, respectively. Of the total deferred revenue balance as of June 30, 2023, we expect to recognize\n",
    "$747 million of revenue in the next 12 months. The remaining balance will be recognized at the time of transfer of control of the product or over the\n",
    "performance period.\n",
    "We have been providing loans for financing our automotive deliveries in volume since fiscal year 2022. As of June 30, 2023 and December 31,\n",
    "2022, we have recorded net financing receivables on the consolidated balance sheets, of which $234 million and $128 million, respectively, is recorded\n",
    "within Accounts receivable, net, for the current portion and $1.15 billion and $665 million, respectively, is recorded within Other non-current assets for\n",
    "the long-term portion.\n",
    "'''\n",
    "\n",
    "pattern = 'Note \\d - ([^\\n]*)'\n",
    "\n",
    "matches = re.findall(pattern, text)\n",
    "matches"
   ]
  },
  {
   "cell_type": "code",
   "execution_count": 12,
   "metadata": {},
   "outputs": [
    {
     "data": {
      "text/plain": [
       "['2021 Q1', '2020 Q4']"
      ]
     },
     "execution_count": 12,
     "metadata": {},
     "output_type": "execute_result"
    }
   ],
   "source": [
    "text = '''\n",
    "The gross cost of operating lease vehicles in FY2021 Q1 was $4.5 billion. Tesla's employee count is 2323\n",
    "In previous quarter i.e. fy2020 Q4 it was 4 billion\n",
    "'''\n",
    "\n",
    "pattern = 'FY(\\d{4} Q[1-4])'\n",
    "\n",
    "matches = re.findall(pattern, text, flags=re.IGNORECASE)\n",
    "matches"
   ]
  },
  {
   "cell_type": "code",
   "execution_count": 15,
   "metadata": {},
   "outputs": [
    {
     "data": {
      "text/plain": [
       "['$4.85', '$4']"
      ]
     },
     "execution_count": 15,
     "metadata": {},
     "output_type": "execute_result"
    }
   ],
   "source": [
    "text = '''\n",
    "The gross cost of operating lease vehicles in FY2021 Q1 was $4.85 billion. Tesla's employee count is 2323\n",
    "In previous quarter i.e. fy2020 Q4 it was $4 billion\n",
    "'''\n",
    "\n",
    "pattern = '\\$[\\d.]+'\n",
    "\n",
    "matches = re.findall(pattern, text, flags=re.IGNORECASE)\n",
    "matches"
   ]
  },
  {
   "cell_type": "code",
   "execution_count": 23,
   "metadata": {},
   "outputs": [
    {
     "data": {
      "text/plain": [
       "<re.Match object; span=(47, 66), match='FY2021 Q1 was $4.85'>"
      ]
     },
     "execution_count": 23,
     "metadata": {},
     "output_type": "execute_result"
    }
   ],
   "source": [
    "text = '''\n",
    "The gross cost of operating lease vehicles in FY2021 Q1 was $4.85 billion. Tesla's employee count is 2323\n",
    "In previous quarter i.e. fy2020 Q4 it was $4 billion\n",
    "'''\n",
    "\n",
    "pattern = 'FY(\\d{4} Q[1-4])[^\\$]+\\$([\\d.]+)'\n",
    "\n",
    "matches = re.search(pattern, text, flags=re.IGNORECASE)\n",
    "matches"
   ]
  },
  {
   "cell_type": "code",
   "execution_count": 24,
   "metadata": {},
   "outputs": [
    {
     "data": {
      "text/plain": [
       "('2021 Q1', '4.85')"
      ]
     },
     "execution_count": 24,
     "metadata": {},
     "output_type": "execute_result"
    }
   ],
   "source": [
    "matches.groups()"
   ]
  }
 ],
 "metadata": {
  "kernelspec": {
   "display_name": "base",
   "language": "python",
   "name": "python3"
  },
  "language_info": {
   "codemirror_mode": {
    "name": "ipython",
    "version": 3
   },
   "file_extension": ".py",
   "mimetype": "text/x-python",
   "name": "python",
   "nbconvert_exporter": "python",
   "pygments_lexer": "ipython3",
   "version": "3.9.18"
  },
  "orig_nbformat": 4
 },
 "nbformat": 4,
 "nbformat_minor": 2
}
